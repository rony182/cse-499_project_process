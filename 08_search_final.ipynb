{
 "cells": [
  {
   "cell_type": "code",
   "execution_count": 1,
   "metadata": {},
   "outputs": [],
   "source": [
    "import os\n",
    "import chromadb\n",
    "import faiss\n",
    "import numpy as np\n",
    "from openai import OpenAI\n",
    "from llama_index.core import Document, VectorStoreIndex, Settings\n",
    "from llama_index.embeddings.huggingface import HuggingFaceEmbedding\n",
    "from dotenv import load_dotenv"
   ]
  },
  {
   "cell_type": "code",
   "execution_count": 2,
   "metadata": {},
   "outputs": [],
   "source": [
    "# Load environment variables from the .env file\n",
    "load_dotenv()\n",
    "\n",
    "# Initialize OpenAI client\n",
    "client = OpenAI(\n",
    "    api_key=os.getenv(\"OPENAI_API_KEY\")\n",
    ")\n",
    "\n",
    "# Load the FAISS index and metadata\n",
    "faiss_index = faiss.read_index(\"faiss_index.bin\")\n",
    "ids = np.load(\"ids.npy\", allow_pickle=True)\n",
    "metadata = np.load(\"metadata.npy\", allow_pickle=True)\n",
    "\n",
    "embed_model = HuggingFaceEmbedding(model_name=\"BAAI/bge-small-en-v1.5\")"
   ]
  },
  {
   "cell_type": "code",
   "execution_count": 3,
   "metadata": {},
   "outputs": [],
   "source": [
    "def search(query, top_k=10):\n",
    "    # Embed the query\n",
    "    query_embedding = embed_model.get_text_embedding(query)\n",
    "    query_embedding = np.array([query_embedding], dtype=np.float32)\n",
    "    \n",
    "    # Search the FAISS index\n",
    "    distances, indices = faiss_index.search(query_embedding, top_k)\n",
    "    \n",
    "    # Retrieve the top_k document IDs and metadata\n",
    "    result_ids = [ids[i] for i in indices[0]]\n",
    "    result_metadata = [metadata[i] for i in indices[0]]\n",
    "    \n",
    "    return distances[0], result_ids, result_metadata"
   ]
  },
  {
   "cell_type": "code",
   "execution_count": 4,
   "metadata": {},
   "outputs": [],
   "source": [
    "def retrieve_related_documents(element_id, part_number):\n",
    "    db_path = f\"chroma_tmp_part{part_number}\"\n",
    "    client = chromadb.PersistentClient(path=db_path)\n",
    "    collection = client.get_collection(f\"investopedia_articles_part{part_number}\")\n",
    "    \n",
    "    # Fetch the title document\n",
    "    title_document = collection.get(ids=[element_id], include=[\"documents\", \"metadatas\"])\n",
    "    \n",
    "    # Fetch narratives related to the given element_id\n",
    "    related_narratives = collection.get(where={\"parent_title_id\": element_id}, include=[\"documents\", \"metadatas\"])\n",
    "    \n",
    "    return title_document, related_narratives"
   ]
  },
  {
   "cell_type": "code",
   "execution_count": 6,
   "metadata": {},
   "outputs": [],
   "source": [
    "def query_llm(query, context):\n",
    "    prompt = (\n",
    "        \"Based on the following context, provide a detailed and expert-level response to the query. \"\n",
    "        \"Ensure the response is well-structured, includes specific financial insights, comparisons to traditional financial instruments where relevant, and uses appropriate terminology.\\n\\n\"\n",
    "        \"Context:\\n\"\n",
    "        f\"{context}\\n\\n\"\n",
    "        \"Query:\\n\"\n",
    "        f\"{query}\\n\\n\"\n",
    "        \"Response:\"\n",
    "    )\n",
    "    response = client.chat.completions.create(\n",
    "        messages=[\n",
    "            {\"role\": \"system\", \"content\": \"You are a finance and investment expert.\"},\n",
    "            {\"role\": \"user\", \"content\": prompt}\n",
    "        ],\n",
    "        model=\"gpt-4o-mini\",\n",
    "        max_tokens=300,\n",
    "        temperature=0.5\n",
    "    )\n",
    "    return response.choices[0].message.content.strip()\n"
   ]
  },
  {
   "cell_type": "code",
   "execution_count": 7,
   "metadata": {},
   "outputs": [],
   "source": [
    "def aggregate_context_and_query_llm(query, top_k=10, max_part_number=10, distance_threshold=0.5):\n",
    "    # Perform search\n",
    "    distances, result_ids, result_metadata = search(query, top_k=top_k)\n",
    "    \n",
    "    all_titles = []\n",
    "    all_narratives = []\n",
    "    \n",
    "    for distance, element_id in zip(distances, result_ids):\n",
    "        if distance > distance_threshold:\n",
    "            continue  # Skip results with distance above the threshold\n",
    "\n",
    "        for part_number in range(1, max_part_number + 1):  # Adjust according to the number of parts you have\n",
    "            try:\n",
    "                title_document, related_narratives = retrieve_related_documents(element_id, part_number)\n",
    "                if title_document[\"documents\"]:\n",
    "                    all_titles.append(title_document[\"documents\"][0])\n",
    "                if related_narratives[\"documents\"]:\n",
    "                    all_narratives.extend(related_narratives[\"documents\"])\n",
    "            except Exception as e:\n",
    "                print(f\"Error retrieving documents for element_id {element_id} in part {part_number}: {e}\")\n",
    "    \n",
    "    # Combine all narratives to form the context\n",
    "    context = \"\\n\".join(all_narratives[:5])  # Limit the context to the top 5 narratives for conciseness\n",
    "    \n",
    "    # Query the LLM with the context and query\n",
    "    llm_response = query_llm(query, context)\n",
    "    \n",
    "    return distances, all_titles, context, llm_response"
   ]
  },
  {
   "cell_type": "code",
   "execution_count": 8,
   "metadata": {},
   "outputs": [
    {
     "name": "stdout",
     "output_type": "stream",
     "text": [
      "Distances: [0.35899398 0.415286   0.4346206  0.4491641  0.457163  ]\n",
      "Titles: ['\\ufeffunderstand growth rate', 'understand econom growth rate', 'understand econom growth', 'econom growth rate definit formula exampl', 'understand real econom growth rate']\n",
      "Context for LLM:\n",
      "convers countri grown incom two consecut quarter consid expand\n",
      "basic level growth rate use express annual chang variabl percentag exampl economi ’ growth rate deriv annual rate chang countri ’ gdp increas decreas rate growth use measur economi ’ recess expans incom within countri declin two consecut quarter consid recess\n",
      "econom growth fundament goal countri allow improv wellb citizen invest variou area educ healthcar infrastructur also close monitor policymak busi investor make inform decis\n",
      "posit econom growth rate signifi economi expand measur period often mean countri increas econom activ output growth often lead higher employ rate improv live standard greater opportun busi individu convers neg econom growth rate suggest econom contract lead job loss reduc incom overal econom hardship\n",
      "econom growth rate measur well economi perform term overal size product specif period often year quarter indic percentag chang total econom output countri time frame measur reflect economi abil produc good servic creat job gener incom citizen\n",
      "LLM Response:\n",
      "**Understanding Year-over-Year (YoY) Growth: A Detailed Insight**\n",
      "\n",
      "Year-over-Year (YoY) growth is a critical metric used in finance and economics to assess the performance of an economic variable over a specified period, typically one year. It allows analysts, policymakers, and investors to gauge the health of an economy, a specific sector, or a company by comparing current performance to that of the previous year. This metric is particularly useful for identifying trends, cyclical patterns, and the overall direction of growth.\n",
      "\n",
      "### **Definition of YoY Growth**\n",
      "\n",
      "YoY growth expresses the percentage change in a variable (such as Gross Domestic Product (GDP), revenue, or profit) from one year to the next. It provides a clear view of how much a particular variable has increased or decreased over a 12-month period, effectively smoothing out seasonal fluctuations that may distort shorter-term comparisons.\n",
      "\n",
      "### **Calculation of YoY Growth**\n",
      "\n",
      "The calculation of YoY growth is straightforward and can be expressed mathematically as follows:\n",
      "\n",
      "\\[\n",
      "\\text{YoY Growth Rate} = \\left( \\frac{\\text{Value at End of Current Period} - \\text{Value at End of Previous Period}}{\\text{Value at End of Previous Period}} \\right) \\times 100\n",
      "\\]\n",
      "\n",
      "#### **Steps to Calculate YoY Growth:**\n",
      "\n",
      "1. **Identify the Variable**: Determine the economic variable you wish to analyze (e.g., GDP, revenue, employment figures).\n",
      "  \n",
      "2. **Gather\n"
     ]
    }
   ],
   "source": [
    "# Example query\n",
    "query = \"What is YoY growth and how is it calculated?\"\n",
    "distances, titles, context, llm_response = aggregate_context_and_query_llm(query, top_k=5, distance_threshold=0.7)\n",
    "\n",
    "print(\"Distances:\", distances)\n",
    "print(\"Titles:\", titles)\n",
    "print(\"Context for LLM:\")\n",
    "print(context)\n",
    "print(\"LLM Response:\")\n",
    "print(llm_response)"
   ]
  }
 ],
 "metadata": {
  "kernelspec": {
   "display_name": "investment_chatbot",
   "language": "python",
   "name": "investment_chatbot"
  },
  "language_info": {
   "codemirror_mode": {
    "name": "ipython",
    "version": 3
   },
   "file_extension": ".py",
   "mimetype": "text/x-python",
   "name": "python",
   "nbconvert_exporter": "python",
   "pygments_lexer": "ipython3",
   "version": "3.10.12"
  }
 },
 "nbformat": 4,
 "nbformat_minor": 2
}
